{
 "cells": [
  {
   "cell_type": "markdown",
   "metadata": {},
   "source": [
    "## Load required packages\n",
    "\n",
    "sqlite3 will setup the connection\n",
    "\n",
    "pandas will handle in data-frame format"
   ]
  },
  {
   "cell_type": "code",
   "execution_count": 1,
   "metadata": {},
   "outputs": [],
   "source": [
    "import pandas as pd\n",
    "import sqlite3"
   ]
  },
  {
   "cell_type": "markdown",
   "metadata": {},
   "source": [
    "Connect to the database"
   ]
  },
  {
   "cell_type": "code",
   "execution_count": 2,
   "metadata": {},
   "outputs": [],
   "source": [
    "conn = sqlite3.connect('Chinook_Sqlite.sqlite')"
   ]
  },
  {
   "cell_type": "markdown",
   "metadata": {},
   "source": [
    "Direct query using sqlite3"
   ]
  },
  {
   "cell_type": "code",
   "execution_count": 3,
   "metadata": {},
   "outputs": [],
   "source": [
    "c = conn.cursor()\n",
    "r = c.execute('''SELECT * FROM Customer WHERE LastName LIKE 'G%' ''')"
   ]
  },
  {
   "cell_type": "markdown",
   "metadata": {},
   "source": [
    "Fetch a single result"
   ]
  },
  {
   "cell_type": "code",
   "execution_count": 4,
   "metadata": {},
   "outputs": [
    {
     "data": {
      "text/plain": [
       "(1,\n",
       " 'Luís',\n",
       " 'Gonçalves',\n",
       " 'Embraer - Empresa Brasileira de Aeronáutica S.A.',\n",
       " 'Av. Brigadeiro Faria Lima, 2170',\n",
       " 'São José dos Campos',\n",
       " 'SP',\n",
       " 'Brazil',\n",
       " '12227-000',\n",
       " '+55 (12) 3923-5555',\n",
       " '+55 (12) 3923-5566',\n",
       " 'luisg@embraer.com.br',\n",
       " 3)"
      ]
     },
     "execution_count": 4,
     "metadata": {},
     "output_type": "execute_result"
    }
   ],
   "source": [
    "r.fetchone()"
   ]
  },
  {
   "cell_type": "markdown",
   "metadata": {},
   "source": [
    "We can request a specific number, like 3"
   ]
  },
  {
   "cell_type": "code",
   "execution_count": 5,
   "metadata": {
    "scrolled": true
   },
   "outputs": [
    {
     "data": {
      "text/plain": [
       "[(7,\n",
       "  'Astrid',\n",
       "  'Gruber',\n",
       "  None,\n",
       "  'Rotenturmstraße 4, 1010 Innere Stadt',\n",
       "  'Vienne',\n",
       "  None,\n",
       "  'Austria',\n",
       "  '1010',\n",
       "  '+43 01 5134505',\n",
       "  None,\n",
       "  'astrid.gruber@apple.at',\n",
       "  5),\n",
       " (19,\n",
       "  'Tim',\n",
       "  'Goyer',\n",
       "  'Apple Inc.',\n",
       "  '1 Infinite Loop',\n",
       "  'Cupertino',\n",
       "  'CA',\n",
       "  'USA',\n",
       "  '95014',\n",
       "  '+1 (408) 996-1010',\n",
       "  '+1 (408) 996-1011',\n",
       "  'tgoyer@apple.com',\n",
       "  3),\n",
       " (23,\n",
       "  'John',\n",
       "  'Gordon',\n",
       "  None,\n",
       "  '69 Salem Street',\n",
       "  'Boston',\n",
       "  'MA',\n",
       "  'USA',\n",
       "  '2113',\n",
       "  '+1 (617) 522-1333',\n",
       "  None,\n",
       "  'johngordon22@yahoo.com',\n",
       "  4)]"
      ]
     },
     "execution_count": 5,
     "metadata": {},
     "output_type": "execute_result"
    }
   ],
   "source": [
    "r.fetchmany(3)"
   ]
  },
  {
   "cell_type": "markdown",
   "metadata": {},
   "source": [
    "Or all the ones requiring for this query"
   ]
  },
  {
   "cell_type": "code",
   "execution_count": 6,
   "metadata": {
    "scrolled": true
   },
   "outputs": [
    {
     "data": {
      "text/plain": [
       "[(27,\n",
       "  'Patrick',\n",
       "  'Gray',\n",
       "  None,\n",
       "  '1033 N Park Ave',\n",
       "  'Tucson',\n",
       "  'AZ',\n",
       "  'USA',\n",
       "  '85719',\n",
       "  '+1 (520) 622-4200',\n",
       "  None,\n",
       "  'patrick.gray@aol.com',\n",
       "  4),\n",
       " (42,\n",
       "  'Wyatt',\n",
       "  'Girard',\n",
       "  None,\n",
       "  '9, Place Louis Barthou',\n",
       "  'Bordeaux',\n",
       "  None,\n",
       "  'France',\n",
       "  '33000',\n",
       "  '+33 05 56 96 96 96',\n",
       "  None,\n",
       "  'wyatt.girard@yahoo.fr',\n",
       "  3),\n",
       " (56,\n",
       "  'Diego',\n",
       "  'Gutiérrez',\n",
       "  None,\n",
       "  '307 Macacha Güemes',\n",
       "  'Buenos Aires',\n",
       "  None,\n",
       "  'Argentina',\n",
       "  '1106',\n",
       "  '+54 (0)11 4311 4333',\n",
       "  None,\n",
       "  'diego.gutierrez@yahoo.ar',\n",
       "  4)]"
      ]
     },
     "execution_count": 6,
     "metadata": {},
     "output_type": "execute_result"
    }
   ],
   "source": [
    "r.fetchall()"
   ]
  },
  {
   "cell_type": "markdown",
   "metadata": {},
   "source": [
    "Doing in a compact way:"
   ]
  },
  {
   "cell_type": "code",
   "execution_count": 7,
   "metadata": {
    "scrolled": true
   },
   "outputs": [
    {
     "data": {
      "text/plain": [
       "[(1,\n",
       "  'Luís',\n",
       "  'Gonçalves',\n",
       "  'Embraer - Empresa Brasileira de Aeronáutica S.A.',\n",
       "  'Av. Brigadeiro Faria Lima, 2170',\n",
       "  'São José dos Campos',\n",
       "  'SP',\n",
       "  'Brazil',\n",
       "  '12227-000',\n",
       "  '+55 (12) 3923-5555',\n",
       "  '+55 (12) 3923-5566',\n",
       "  'luisg@embraer.com.br',\n",
       "  3),\n",
       " (7,\n",
       "  'Astrid',\n",
       "  'Gruber',\n",
       "  None,\n",
       "  'Rotenturmstraße 4, 1010 Innere Stadt',\n",
       "  'Vienne',\n",
       "  None,\n",
       "  'Austria',\n",
       "  '1010',\n",
       "  '+43 01 5134505',\n",
       "  None,\n",
       "  'astrid.gruber@apple.at',\n",
       "  5),\n",
       " (19,\n",
       "  'Tim',\n",
       "  'Goyer',\n",
       "  'Apple Inc.',\n",
       "  '1 Infinite Loop',\n",
       "  'Cupertino',\n",
       "  'CA',\n",
       "  'USA',\n",
       "  '95014',\n",
       "  '+1 (408) 996-1010',\n",
       "  '+1 (408) 996-1011',\n",
       "  'tgoyer@apple.com',\n",
       "  3),\n",
       " (23,\n",
       "  'John',\n",
       "  'Gordon',\n",
       "  None,\n",
       "  '69 Salem Street',\n",
       "  'Boston',\n",
       "  'MA',\n",
       "  'USA',\n",
       "  '2113',\n",
       "  '+1 (617) 522-1333',\n",
       "  None,\n",
       "  'johngordon22@yahoo.com',\n",
       "  4),\n",
       " (27,\n",
       "  'Patrick',\n",
       "  'Gray',\n",
       "  None,\n",
       "  '1033 N Park Ave',\n",
       "  'Tucson',\n",
       "  'AZ',\n",
       "  'USA',\n",
       "  '85719',\n",
       "  '+1 (520) 622-4200',\n",
       "  None,\n",
       "  'patrick.gray@aol.com',\n",
       "  4),\n",
       " (42,\n",
       "  'Wyatt',\n",
       "  'Girard',\n",
       "  None,\n",
       "  '9, Place Louis Barthou',\n",
       "  'Bordeaux',\n",
       "  None,\n",
       "  'France',\n",
       "  '33000',\n",
       "  '+33 05 56 96 96 96',\n",
       "  None,\n",
       "  'wyatt.girard@yahoo.fr',\n",
       "  3),\n",
       " (56,\n",
       "  'Diego',\n",
       "  'Gutiérrez',\n",
       "  None,\n",
       "  '307 Macacha Güemes',\n",
       "  'Buenos Aires',\n",
       "  None,\n",
       "  'Argentina',\n",
       "  '1106',\n",
       "  '+54 (0)11 4311 4333',\n",
       "  None,\n",
       "  'diego.gutierrez@yahoo.ar',\n",
       "  4)]"
      ]
     },
     "execution_count": 7,
     "metadata": {},
     "output_type": "execute_result"
    }
   ],
   "source": [
    "r = c.execute('''SELECT * FROM Customer WHERE LastName LIKE 'G%' ''')\n",
    "data_collected = r.fetchall()\n",
    "data_collected"
   ]
  },
  {
   "cell_type": "markdown",
   "metadata": {},
   "source": [
    "We can then create a pandas data frame for our analysis"
   ]
  },
  {
   "cell_type": "code",
   "execution_count": 8,
   "metadata": {
    "scrolled": true
   },
   "outputs": [
    {
     "data": {
      "text/html": [
       "<div>\n",
       "<style scoped>\n",
       "    .dataframe tbody tr th:only-of-type {\n",
       "        vertical-align: middle;\n",
       "    }\n",
       "\n",
       "    .dataframe tbody tr th {\n",
       "        vertical-align: top;\n",
       "    }\n",
       "\n",
       "    .dataframe thead th {\n",
       "        text-align: right;\n",
       "    }\n",
       "</style>\n",
       "<table border=\"1\" class=\"dataframe\">\n",
       "  <thead>\n",
       "    <tr style=\"text-align: right;\">\n",
       "      <th></th>\n",
       "      <th>0</th>\n",
       "      <th>1</th>\n",
       "      <th>2</th>\n",
       "      <th>3</th>\n",
       "      <th>4</th>\n",
       "      <th>5</th>\n",
       "      <th>6</th>\n",
       "      <th>7</th>\n",
       "      <th>8</th>\n",
       "      <th>9</th>\n",
       "      <th>10</th>\n",
       "      <th>11</th>\n",
       "      <th>12</th>\n",
       "    </tr>\n",
       "  </thead>\n",
       "  <tbody>\n",
       "    <tr>\n",
       "      <th>0</th>\n",
       "      <td>1</td>\n",
       "      <td>Luís</td>\n",
       "      <td>Gonçalves</td>\n",
       "      <td>Embraer - Empresa Brasileira de Aeronáutica S.A.</td>\n",
       "      <td>Av. Brigadeiro Faria Lima, 2170</td>\n",
       "      <td>São José dos Campos</td>\n",
       "      <td>SP</td>\n",
       "      <td>Brazil</td>\n",
       "      <td>12227-000</td>\n",
       "      <td>+55 (12) 3923-5555</td>\n",
       "      <td>+55 (12) 3923-5566</td>\n",
       "      <td>luisg@embraer.com.br</td>\n",
       "      <td>3</td>\n",
       "    </tr>\n",
       "    <tr>\n",
       "      <th>1</th>\n",
       "      <td>7</td>\n",
       "      <td>Astrid</td>\n",
       "      <td>Gruber</td>\n",
       "      <td>None</td>\n",
       "      <td>Rotenturmstraße 4, 1010 Innere Stadt</td>\n",
       "      <td>Vienne</td>\n",
       "      <td>None</td>\n",
       "      <td>Austria</td>\n",
       "      <td>1010</td>\n",
       "      <td>+43 01 5134505</td>\n",
       "      <td>None</td>\n",
       "      <td>astrid.gruber@apple.at</td>\n",
       "      <td>5</td>\n",
       "    </tr>\n",
       "    <tr>\n",
       "      <th>2</th>\n",
       "      <td>19</td>\n",
       "      <td>Tim</td>\n",
       "      <td>Goyer</td>\n",
       "      <td>Apple Inc.</td>\n",
       "      <td>1 Infinite Loop</td>\n",
       "      <td>Cupertino</td>\n",
       "      <td>CA</td>\n",
       "      <td>USA</td>\n",
       "      <td>95014</td>\n",
       "      <td>+1 (408) 996-1010</td>\n",
       "      <td>+1 (408) 996-1011</td>\n",
       "      <td>tgoyer@apple.com</td>\n",
       "      <td>3</td>\n",
       "    </tr>\n",
       "    <tr>\n",
       "      <th>3</th>\n",
       "      <td>23</td>\n",
       "      <td>John</td>\n",
       "      <td>Gordon</td>\n",
       "      <td>None</td>\n",
       "      <td>69 Salem Street</td>\n",
       "      <td>Boston</td>\n",
       "      <td>MA</td>\n",
       "      <td>USA</td>\n",
       "      <td>2113</td>\n",
       "      <td>+1 (617) 522-1333</td>\n",
       "      <td>None</td>\n",
       "      <td>johngordon22@yahoo.com</td>\n",
       "      <td>4</td>\n",
       "    </tr>\n",
       "    <tr>\n",
       "      <th>4</th>\n",
       "      <td>27</td>\n",
       "      <td>Patrick</td>\n",
       "      <td>Gray</td>\n",
       "      <td>None</td>\n",
       "      <td>1033 N Park Ave</td>\n",
       "      <td>Tucson</td>\n",
       "      <td>AZ</td>\n",
       "      <td>USA</td>\n",
       "      <td>85719</td>\n",
       "      <td>+1 (520) 622-4200</td>\n",
       "      <td>None</td>\n",
       "      <td>patrick.gray@aol.com</td>\n",
       "      <td>4</td>\n",
       "    </tr>\n",
       "  </tbody>\n",
       "</table>\n",
       "</div>"
      ],
      "text/plain": [
       "   0        1          2                                                 3   \\\n",
       "0   1     Luís  Gonçalves  Embraer - Empresa Brasileira de Aeronáutica S.A.   \n",
       "1   7   Astrid     Gruber                                              None   \n",
       "2  19      Tim      Goyer                                        Apple Inc.   \n",
       "3  23     John     Gordon                                              None   \n",
       "4  27  Patrick       Gray                                              None   \n",
       "\n",
       "                                     4                    5     6        7   \\\n",
       "0       Av. Brigadeiro Faria Lima, 2170  São José dos Campos    SP   Brazil   \n",
       "1  Rotenturmstraße 4, 1010 Innere Stadt               Vienne  None  Austria   \n",
       "2                       1 Infinite Loop            Cupertino    CA      USA   \n",
       "3                       69 Salem Street               Boston    MA      USA   \n",
       "4                       1033 N Park Ave               Tucson    AZ      USA   \n",
       "\n",
       "          8                   9                   10                      11  \\\n",
       "0  12227-000  +55 (12) 3923-5555  +55 (12) 3923-5566    luisg@embraer.com.br   \n",
       "1       1010      +43 01 5134505                None  astrid.gruber@apple.at   \n",
       "2      95014   +1 (408) 996-1010   +1 (408) 996-1011        tgoyer@apple.com   \n",
       "3       2113   +1 (617) 522-1333                None  johngordon22@yahoo.com   \n",
       "4      85719   +1 (520) 622-4200                None    patrick.gray@aol.com   \n",
       "\n",
       "   12  \n",
       "0   3  \n",
       "1   5  \n",
       "2   3  \n",
       "3   4  \n",
       "4   4  "
      ]
     },
     "execution_count": 8,
     "metadata": {},
     "output_type": "execute_result"
    }
   ],
   "source": [
    "df_from_sqlite = pd.DataFrame(data_collected)\n",
    "df_from_sqlite.head()"
   ]
  },
  {
   "cell_type": "markdown",
   "metadata": {},
   "source": [
    "You can execute any query in this fashion:"
   ]
  },
  {
   "cell_type": "code",
   "execution_count": 9,
   "metadata": {},
   "outputs": [
    {
     "data": {
      "text/plain": [
       "(3503,)"
      ]
     },
     "execution_count": 9,
     "metadata": {},
     "output_type": "execute_result"
    }
   ],
   "source": [
    "r = c.execute('''SELECT COUNT(*) FROM Track''')\n",
    "r.fetchone()"
   ]
  },
  {
   "cell_type": "markdown",
   "metadata": {},
   "source": [
    "## Reading the data using pandas\n",
    "\n",
    "It requires a connection to a SQL in the background, we'll give the same from above."
   ]
  },
  {
   "cell_type": "code",
   "execution_count": 10,
   "metadata": {},
   "outputs": [
    {
     "data": {
      "text/html": [
       "<div>\n",
       "<style scoped>\n",
       "    .dataframe tbody tr th:only-of-type {\n",
       "        vertical-align: middle;\n",
       "    }\n",
       "\n",
       "    .dataframe tbody tr th {\n",
       "        vertical-align: top;\n",
       "    }\n",
       "\n",
       "    .dataframe thead th {\n",
       "        text-align: right;\n",
       "    }\n",
       "</style>\n",
       "<table border=\"1\" class=\"dataframe\">\n",
       "  <thead>\n",
       "    <tr style=\"text-align: right;\">\n",
       "      <th></th>\n",
       "      <th>CustomerId</th>\n",
       "      <th>FirstName</th>\n",
       "      <th>LastName</th>\n",
       "      <th>Company</th>\n",
       "      <th>Address</th>\n",
       "      <th>City</th>\n",
       "      <th>State</th>\n",
       "      <th>Country</th>\n",
       "      <th>PostalCode</th>\n",
       "      <th>Phone</th>\n",
       "      <th>Fax</th>\n",
       "      <th>Email</th>\n",
       "      <th>SupportRepId</th>\n",
       "    </tr>\n",
       "  </thead>\n",
       "  <tbody>\n",
       "    <tr>\n",
       "      <th>0</th>\n",
       "      <td>1</td>\n",
       "      <td>Luís</td>\n",
       "      <td>Gonçalves</td>\n",
       "      <td>Embraer - Empresa Brasileira de Aeronáutica S.A.</td>\n",
       "      <td>Av. Brigadeiro Faria Lima, 2170</td>\n",
       "      <td>São José dos Campos</td>\n",
       "      <td>SP</td>\n",
       "      <td>Brazil</td>\n",
       "      <td>12227-000</td>\n",
       "      <td>+55 (12) 3923-5555</td>\n",
       "      <td>+55 (12) 3923-5566</td>\n",
       "      <td>luisg@embraer.com.br</td>\n",
       "      <td>3</td>\n",
       "    </tr>\n",
       "    <tr>\n",
       "      <th>1</th>\n",
       "      <td>7</td>\n",
       "      <td>Astrid</td>\n",
       "      <td>Gruber</td>\n",
       "      <td>None</td>\n",
       "      <td>Rotenturmstraße 4, 1010 Innere Stadt</td>\n",
       "      <td>Vienne</td>\n",
       "      <td>None</td>\n",
       "      <td>Austria</td>\n",
       "      <td>1010</td>\n",
       "      <td>+43 01 5134505</td>\n",
       "      <td>None</td>\n",
       "      <td>astrid.gruber@apple.at</td>\n",
       "      <td>5</td>\n",
       "    </tr>\n",
       "    <tr>\n",
       "      <th>2</th>\n",
       "      <td>19</td>\n",
       "      <td>Tim</td>\n",
       "      <td>Goyer</td>\n",
       "      <td>Apple Inc.</td>\n",
       "      <td>1 Infinite Loop</td>\n",
       "      <td>Cupertino</td>\n",
       "      <td>CA</td>\n",
       "      <td>USA</td>\n",
       "      <td>95014</td>\n",
       "      <td>+1 (408) 996-1010</td>\n",
       "      <td>+1 (408) 996-1011</td>\n",
       "      <td>tgoyer@apple.com</td>\n",
       "      <td>3</td>\n",
       "    </tr>\n",
       "    <tr>\n",
       "      <th>3</th>\n",
       "      <td>23</td>\n",
       "      <td>John</td>\n",
       "      <td>Gordon</td>\n",
       "      <td>None</td>\n",
       "      <td>69 Salem Street</td>\n",
       "      <td>Boston</td>\n",
       "      <td>MA</td>\n",
       "      <td>USA</td>\n",
       "      <td>2113</td>\n",
       "      <td>+1 (617) 522-1333</td>\n",
       "      <td>None</td>\n",
       "      <td>johngordon22@yahoo.com</td>\n",
       "      <td>4</td>\n",
       "    </tr>\n",
       "    <tr>\n",
       "      <th>4</th>\n",
       "      <td>27</td>\n",
       "      <td>Patrick</td>\n",
       "      <td>Gray</td>\n",
       "      <td>None</td>\n",
       "      <td>1033 N Park Ave</td>\n",
       "      <td>Tucson</td>\n",
       "      <td>AZ</td>\n",
       "      <td>USA</td>\n",
       "      <td>85719</td>\n",
       "      <td>+1 (520) 622-4200</td>\n",
       "      <td>None</td>\n",
       "      <td>patrick.gray@aol.com</td>\n",
       "      <td>4</td>\n",
       "    </tr>\n",
       "  </tbody>\n",
       "</table>\n",
       "</div>"
      ],
      "text/plain": [
       "   CustomerId FirstName   LastName  \\\n",
       "0           1      Luís  Gonçalves   \n",
       "1           7    Astrid     Gruber   \n",
       "2          19       Tim      Goyer   \n",
       "3          23      John     Gordon   \n",
       "4          27   Patrick       Gray   \n",
       "\n",
       "                                            Company  \\\n",
       "0  Embraer - Empresa Brasileira de Aeronáutica S.A.   \n",
       "1                                              None   \n",
       "2                                        Apple Inc.   \n",
       "3                                              None   \n",
       "4                                              None   \n",
       "\n",
       "                                Address                 City State  Country  \\\n",
       "0       Av. Brigadeiro Faria Lima, 2170  São José dos Campos    SP   Brazil   \n",
       "1  Rotenturmstraße 4, 1010 Innere Stadt               Vienne  None  Austria   \n",
       "2                       1 Infinite Loop            Cupertino    CA      USA   \n",
       "3                       69 Salem Street               Boston    MA      USA   \n",
       "4                       1033 N Park Ave               Tucson    AZ      USA   \n",
       "\n",
       "  PostalCode               Phone                 Fax                   Email  \\\n",
       "0  12227-000  +55 (12) 3923-5555  +55 (12) 3923-5566    luisg@embraer.com.br   \n",
       "1       1010      +43 01 5134505                None  astrid.gruber@apple.at   \n",
       "2      95014   +1 (408) 996-1010   +1 (408) 996-1011        tgoyer@apple.com   \n",
       "3       2113   +1 (617) 522-1333                None  johngordon22@yahoo.com   \n",
       "4      85719   +1 (520) 622-4200                None    patrick.gray@aol.com   \n",
       "\n",
       "   SupportRepId  \n",
       "0             3  \n",
       "1             5  \n",
       "2             3  \n",
       "3             4  \n",
       "4             4  "
      ]
     },
     "execution_count": 10,
     "metadata": {},
     "output_type": "execute_result"
    }
   ],
   "source": [
    "df = pd.read_sql('''SELECT * FROM Customer WHERE LastName LIKE 'G%' ''', conn)\n",
    "df.head()"
   ]
  },
  {
   "cell_type": "markdown",
   "metadata": {},
   "source": [
    "## Close the connection\n",
    "\n",
    "After operating on the database, specially for queries that change the data (after commit), you'll need to close the connection."
   ]
  },
  {
   "cell_type": "code",
   "execution_count": 11,
   "metadata": {},
   "outputs": [],
   "source": [
    "conn.close()"
   ]
  }
 ],
 "metadata": {
  "kernelspec": {
   "display_name": "Python 3",
   "language": "python",
   "name": "python3"
  },
  "language_info": {
   "codemirror_mode": {
    "name": "ipython",
    "version": 3
   },
   "file_extension": ".py",
   "mimetype": "text/x-python",
   "name": "python",
   "nbconvert_exporter": "python",
   "pygments_lexer": "ipython3",
   "version": "3.7.2"
  }
 },
 "nbformat": 4,
 "nbformat_minor": 2
}
